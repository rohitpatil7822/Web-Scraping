{
 "cells": [
  {
   "cell_type": "code",
   "execution_count": 54,
   "metadata": {},
   "outputs": [],
   "source": [
    "import requests\n",
    "from bs4 import BeautifulSoup\n",
    "import re\n",
    "import pandas as pd\n",
    "from urllib.parse import urlparse\n"
   ]
  },
  {
   "cell_type": "code",
   "execution_count": 63,
   "metadata": {},
   "outputs": [],
   "source": [
    "def getData(urls):\n",
    "\n",
    "    response = requests.get(urls)\n",
    "    \n",
    "    if response.status_code == 200:\n",
    "\n",
    "        soup = BeautifulSoup(response.text,\"lxml\")\n",
    "\n",
    "        list_of_books = soup.find_all(\"li\",class_=\"col-xs-6 col-sm-4 col-md-3 col-lg-3\")\n",
    "        data = []\n",
    "\n",
    "        for book in list_of_books:\n",
    "\n",
    "            imgUrl = book.find(\"div\",class_=\"image_container\")\n",
    "            img = imgUrl.find(\"img\")['src']\n",
    "\n",
    "            completeUrl = f\"https://books.toscrape.com/{img}\"\n",
    "\n",
    "            title = book.find(\"h3\")\n",
    "            price = book.find(\"p\",class_=\"price_color\")\n",
    "            clean_price = price.text.replace(\"Â\", \"\").strip()\n",
    "            availabilty = book.find(\"p\",class_=\"instock availability\")\n",
    "            \n",
    "            row = [title.text.strip(),clean_price,availabilty.text.strip(),completeUrl]\n",
    "\n",
    "            data.append(row)\n",
    "    nextpage = soup.find(\"li\",class_=\"next\")\n",
    "\n",
    "    if nextpage:\n",
    "\n",
    "        pageUrl = nextpage.find(\"a\")['href']\n",
    "        parsed_url = urlparse(pageUrl)\n",
    "        page = parsed_url.path.split(\"/\")[-1]\n",
    "        nextpageUrl = \"https://books.toscrape.com/catalogue/\"+page\n",
    "        data += getData(nextpageUrl)\n",
    "\n",
    "    return data\n",
    " \n",
    "\n",
    "url = \"https://books.toscrape.com/\"\n",
    "\n",
    "book_df = getData(url)\n",
    "columns = ['Title' , 'Price' , 'Availability' , 'Book Image' ]\n",
    "\n",
    "final_book_df = pd.DataFrame(book_df,columns=columns)\n",
    "\n",
    "final_book_df.to_excel(\"books_data.xlsx\",index=False)\n"
   ]
  },
  {
   "cell_type": "code",
   "execution_count": 62,
   "metadata": {},
   "outputs": [
    {
     "data": {
      "text/plain": [
       "[None, None, None]"
      ]
     },
     "execution_count": 62,
     "metadata": {},
     "output_type": "execute_result"
    }
   ],
   "source": []
  },
  {
   "cell_type": "code",
   "execution_count": null,
   "metadata": {},
   "outputs": [],
   "source": []
  }
 ],
 "metadata": {
  "kernelspec": {
   "display_name": "Python 3",
   "language": "python",
   "name": "python3"
  },
  "language_info": {
   "name": "python",
   "version": "3.8.10"
  },
  "orig_nbformat": 4
 },
 "nbformat": 4,
 "nbformat_minor": 2
}
