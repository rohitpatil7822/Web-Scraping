{
 "cells": [
  {
   "cell_type": "code",
   "execution_count": null,
   "metadata": {},
   "outputs": [],
   "source": [
    "import requests\n",
    "from bs4 import BeautifulSoup\n",
    "import re\n",
    "import pandas as pd\n",
    "from urllib.parse import urlparse\n"
   ]
  },
  {
   "cell_type": "code",
   "execution_count": 36,
   "metadata": {},
   "outputs": [
    {
     "name": "stdout",
     "output_type": "stream",
     "text": [
      "                                     Rank & Title IMDb Rating  \\\n",
      "0          1.      The Shawshank Redemption(1994)         9.2   \n",
      "1                     2.      The Godfather(1972)         9.2   \n",
      "2                   3.      The Dark Knight(2008)         9.0   \n",
      "3             4.      The Godfather Part II(1974)         9.0   \n",
      "4                      5.      12 Angry Men(1957)         9.0   \n",
      "..                                            ...         ...   \n",
      "245                246.      The Iron Giant(1999)         8.0   \n",
      "246                      247.      The Help(2011)         8.0   \n",
      "247                       248.      Aladdin(1992)         8.0   \n",
      "248            249.      Dances with Wolves(1990)         8.0   \n",
      "249                   250.      Dersu Uzala(1975)         8.0   \n",
      "\n",
      "                                            Poster Url  \n",
      "0    https://m.media-amazon.com/images/M/MV5BNDE3OD...  \n",
      "1    https://m.media-amazon.com/images/M/MV5BM2MyNj...  \n",
      "2    https://m.media-amazon.com/images/M/MV5BMTMxNT...  \n",
      "3    https://m.media-amazon.com/images/M/MV5BMWMwMG...  \n",
      "4    https://m.media-amazon.com/images/M/MV5BMWU4N2...  \n",
      "..                                                 ...  \n",
      "245  https://m.media-amazon.com/images/M/MV5BYzBjZT...  \n",
      "246  https://m.media-amazon.com/images/M/MV5BMTM5OT...  \n",
      "247  https://m.media-amazon.com/images/M/MV5BZTg5ZT...  \n",
      "248  https://m.media-amazon.com/images/M/MV5BMTY3OT...  \n",
      "249  https://m.media-amazon.com/images/M/MV5BM2MwZW...  \n",
      "\n",
      "[250 rows x 3 columns]\n"
     ]
    }
   ],
   "source": [
    "url = \"https://www.imdb.com/chart/top/?ref_=nv_mv_250\"\n",
    "\n",
    "response = requests.get(url)\n",
    "\n",
    "if response.status_code == 200:\n",
    "\n",
    "    soup = BeautifulSoup(response.text,\"lxml\")\n",
    "\n",
    "    table = soup.find(\"table\",class_=\"chart full-width\")\n",
    "\n",
    "    header = table.find_all(\"th\")[1:]\n",
    "\n",
    "    originalColumns = [i.text for i in header]\n",
    "    headerColumns = originalColumns[:-2]\n",
    "    headerColumns.append(\"Poster Url\")\n",
    "    imdb_top_250_df = pd.DataFrame(columns=headerColumns)\n",
    "    tr = table.find_all(\"tr\")[1:]\n",
    "\n",
    "    for i in tr:\n",
    "        \n",
    "        imgtag = i.find(\"td\",class_=\"posterColumn\")\n",
    "        imgUrl = imgtag.find(\"img\")[\"src\"]\n",
    "        \n",
    "        title = i.find(\"td\",class_=\"titleColumn\").text.replace(\"\\n\",\"\")\n",
    "        imdbRating = i.find(\"td\",class_=\"ratingColumn imdbRating\").text.strip()\n",
    "        \n",
    "        rows = [title,imdbRating,imgUrl]\n",
    "        stripped_list = [item.strip() for item in rows]\n",
    "\n",
    "        ll = len(imdb_top_250_df)\n",
    "        imdb_top_250_df.loc[ll] = stripped_list\n",
    "    \n",
    "    imdb_top_250_df.to_excel(\"imdb_top_250.xlsx\",index=False)\n",
    "    # print(tr)"
   ]
  },
  {
   "cell_type": "code",
   "execution_count": null,
   "metadata": {},
   "outputs": [],
   "source": []
  }
 ],
 "metadata": {
  "kernelspec": {
   "display_name": "Python 3",
   "language": "python",
   "name": "python3"
  },
  "language_info": {
   "codemirror_mode": {
    "name": "ipython",
    "version": 3
   },
   "file_extension": ".py",
   "mimetype": "text/x-python",
   "name": "python",
   "nbconvert_exporter": "python",
   "pygments_lexer": "ipython3",
   "version": "3.8.10"
  },
  "orig_nbformat": 4
 },
 "nbformat": 4,
 "nbformat_minor": 2
}
